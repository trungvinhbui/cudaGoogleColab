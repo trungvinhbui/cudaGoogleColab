{
  "nbformat": 4,
  "nbformat_minor": 0,
  "metadata": {
    "colab": {
      "name": "tetsCuda.ipynb",
      "version": "0.3.2",
      "provenance": [],
      "collapsed_sections": [],
      "include_colab_link": true
    },
    "kernelspec": {
      "name": "python3",
      "display_name": "Python 3"
    },
    "accelerator": "GPU"
  },
  "cells": [
    {
      "cell_type": "markdown",
      "metadata": {
        "id": "view-in-github",
        "colab_type": "text"
      },
      "source": [
        "<a href=\"https://colab.research.google.com/github/trungvinhbui/cudaGoogleColab/blob/master/tetsCuda.ipynb\" target=\"_parent\"><img src=\"https://colab.research.google.com/assets/colab-badge.svg\" alt=\"Open In Colab\"/></a>"
      ]
    },
    {
      "metadata": {
        "id": "tvzN2t-pGQlf",
        "colab_type": "text"
      },
      "cell_type": "markdown",
      "source": [
        "**Install Cuda Toolkit**"
      ]
    },
    {
      "metadata": {
        "id": "HiQxwvlYjfJS",
        "colab_type": "code",
        "colab": {}
      },
      "cell_type": "code",
      "source": [
        "\n",
        "!apt update -qq;\n",
        "!wget https://developer.nvidia.com/compute/cuda/10.0/Prod/local_installers/cuda-repo-ubuntu1804-10-0-local-10.0.130-410.48_1.0-1_amd64;\n",
        "!dpkg -i cuda-repo-ubuntu1804-10-0-local-10.0.130-410.48_1.0-1_amd64;\n",
        "!apt-key add /var/cuda-repo-10-0-local-10.0.130-410.48/7fa2af80.pub;\n",
        "!apt-get update -qq;\n",
        "!apt-get install cuda;\n",
        "!ln -s /usr/bin/gcc /usr/local/cuda/bin/gcc;\n",
        "!ln -s /usr/bin/g++ /usr/local/cuda/bin/g++;\n",
        "!/usr/local/cuda/bin/nvcc --version\n",
        "!pip install git+git://github.com/trungvinhbui/nvcc4jupyter.git\n",
        "%load_ext nvcc_plugin"
      ],
      "execution_count": 0,
      "outputs": []
    },
    {
      "metadata": {
        "id": "9ZHUv_6QGa6r",
        "colab_type": "text"
      },
      "cell_type": "markdown",
      "source": [
        "**Test Cuda Cell**"
      ]
    },
    {
      "metadata": {
        "id": "gKrPquOYhpO0",
        "colab_type": "code",
        "colab": {}
      },
      "cell_type": "code",
      "source": [
        "%%cu\n",
        "#include <stdio.h>\n",
        "\n",
        "__global__\n",
        "void saxpy(int n, float a, float *x, float *y)\n",
        "{\n",
        "  int i = blockIdx.x*blockDim.x + threadIdx.x;\n",
        "  if (i < n) y[i] = a*x[i] + y[i];\n",
        "}\n",
        "\n",
        "int main(void)\n",
        "{\n",
        "  int N = 1<<20;\n",
        "  float *x, *y, *d_x, *d_y;\n",
        "  x = (float*)malloc(N*sizeof(float));\n",
        "  y = (float*)malloc(N*sizeof(float));\n",
        "\n",
        "  cudaMalloc(&d_x, N*sizeof(float)); \n",
        "  cudaMalloc(&d_y, N*sizeof(float));\n",
        "\n",
        "  for (int i = 0; i < N; i++) {\n",
        "    x[i] = 1.0f;\n",
        "    y[i] = 2.0f;\n",
        "  }\n",
        "\n",
        "  cudaMemcpy(d_x, x, N*sizeof(float), cudaMemcpyHostToDevice);\n",
        "  cudaMemcpy(d_y, y, N*sizeof(float), cudaMemcpyHostToDevice);\n",
        "\n",
        "  // Perform SAXPY on 1M elements\n",
        "  saxpy<<<(N+255)/256, 256>>>(N, 2.0f, d_x, d_y);\n",
        "\n",
        "  cudaMemcpy(y, d_y, N*sizeof(float), cudaMemcpyDeviceToHost);\n",
        "\n",
        "  float maxError = 0.0f;\n",
        "  for (int i = 0; i < N; i++)\n",
        "    maxError = max(maxError, abs(y[i]-4.0f));\n",
        "  printf(\"Max error: %f\\n\", maxError);\n",
        "\n",
        "  cudaFree(d_x);\n",
        "  cudaFree(d_y);\n",
        "  free(x);\n",
        "  free(y);\n",
        "}"
      ],
      "execution_count": 0,
      "outputs": []
    },
    {
      "metadata": {
        "id": "3UroWs42GfjD",
        "colab_type": "text"
      },
      "cell_type": "markdown",
      "source": [
        "**Install cuda python**"
      ]
    },
    {
      "metadata": {
        "id": "kR7Zx04luZ3s",
        "colab_type": "code",
        "colab": {}
      },
      "cell_type": "code",
      "source": [
        "!wget https://repo.anaconda.com/archive/Anaconda3-5.3.0-Linux-x86_64.sh;\n",
        "!chmod +x Anaconda3-5.3.0-Linux-x86_64.sh\n",
        "!bash ./Anaconda3-5.3.0-Linux-x86_64.sh -b -f -p /usr/local\n",
        "!conda install numba\n",
        "!conda install cudatoolkit"
      ],
      "execution_count": 0,
      "outputs": []
    },
    {
      "metadata": {
        "id": "_fqFAwtuHMlR",
        "colab_type": "text"
      },
      "cell_type": "markdown",
      "source": [
        "**Connect Google Driver**"
      ]
    },
    {
      "metadata": {
        "id": "tlb1Pa5o2ozj",
        "colab_type": "code",
        "colab": {}
      },
      "cell_type": "code",
      "source": [
        "!apt-get install -y -qq software-properties-common python-software-properties module-init-tools\n",
        "!add-apt-repository -y ppa:alessandro-strada/ppa 2>&1 > /dev/null\n",
        "!apt-get update -qq 2>&1 > /dev/null\n",
        "!apt-get -y install -qq google-drive-ocamlfuse fuse\n",
        "from google.colab import auth\n",
        "auth.authenticate_user()\n",
        "from oauth2client.client import GoogleCredentials\n",
        "creds = GoogleCredentials.get_application_default()\n",
        "import getpass\n",
        "!google-drive-ocamlfuse -headless -id={creds.client_id} -secret={creds.client_secret} < /dev/null 2>&1 | grep URL\n",
        "vcode = getpass.getpass()\n",
        "!echo {vcode} | google-drive-ocamlfuse -headless -id={creds.client_id} -secret={creds.client_secret}\n",
        "!mkdir -p drive\n",
        "!google-drive-ocamlfuse drive"
      ],
      "execution_count": 0,
      "outputs": []
    },
    {
      "metadata": {
        "id": "HRFYGyANE-FX",
        "colab_type": "text"
      },
      "cell_type": "markdown",
      "source": [
        "**Working folder**\n",
        "*  Dir new: /content/drive/\n",
        "*  Dir data: /content/drive/GoogleColabData/\n",
        "\n",
        "\n",
        "\n",
        "\n"
      ]
    },
    {
      "metadata": {
        "id": "i-sxODg5H0jj",
        "colab_type": "text"
      },
      "cell_type": "markdown",
      "source": [
        "**Test Cuda Python and C**"
      ]
    },
    {
      "metadata": {
        "id": "9GpG6tnQEHOW",
        "colab_type": "code",
        "colab": {
          "base_uri": "https://localhost:8080/",
          "height": 119
        },
        "outputId": "c940e4e0-6f12-4304-f871-5b20494c73f1"
      },
      "cell_type": "code",
      "source": [
        "!echo Test Python\n",
        "!python /content/drive/GoogleColabData/testcudapython.py;\n",
        "!echo Test C\n",
        "!nvcc -o testcudac /content/drive/GoogleColabData/testcudac.cu;\n",
        "!./testcudac;"
      ],
      "execution_count": 99,
      "outputs": [
        {
          "output_type": "stream",
          "text": [
            "Test Python\n",
            "C[:5] = [2. 2. 2. 2. 2.]\n",
            "C[-5:] = [2. 2. 2. 2. 2.]\n",
            "VectorAdd took for 0.3741447925567627econds\n",
            "\u001b[0mTest C\n",
            "Max error: 2.000000\n"
          ],
          "name": "stdout"
        }
      ]
    }
  ]
}